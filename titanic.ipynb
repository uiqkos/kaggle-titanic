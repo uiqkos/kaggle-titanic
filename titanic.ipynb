{
 "cells": [
  {
   "cell_type": "code",
   "execution_count": 3,
   "metadata": {
    "pycharm": {
     "name": "#%%\n"
    }
   },
   "outputs": [],
   "source": [
    "import pandas as pd\n",
    "\n",
    "import matplotlib.pyplot as plt\n",
    "import seaborn\n",
    "\n",
    "train = pd.read_csv('./data/train.csv', index_col='PassengerId')\n",
    "test = pd.read_csv('./data/test.csv', index_col='PassengerId')"
   ]
  },
  {
   "cell_type": "code",
   "execution_count": 4,
   "metadata": {
    "pycharm": {
     "name": "#%%\n"
    }
   },
   "outputs": [],
   "source": [
    "import pandasgui\n",
    "# pandasgui.show(train)"
   ]
  },
  {
   "cell_type": "code",
   "execution_count": 5,
   "metadata": {
    "pycharm": {
     "name": "#%%\n"
    }
   },
   "outputs": [
    {
     "data": {
      "image/png": "[encoded data removed]",
      "text/plain": [
       "<Figure size 432x288 with 1 Axes>"
      ]
     },
     "metadata": {
      "needs_background": "light"
     },
     "output_type": "display_data"
    }
   ],
   "source": [
    "# Survived by sex\n",
    "\n",
    "seaborn.barplot(\n",
    "    x='Sex', y='Survived',\n",
    "    data=train\n",
    ")\n",
    "plt.show()"
   ]
  },
  {
   "cell_type": "code",
   "execution_count": 6,
   "metadata": {
    "pycharm": {
     "name": "#%%\n"
    }
   },
   "outputs": [
    {
     "name": "stdout",
     "output_type": "stream",
     "text": [
      "314\n",
      "577\n"
     ]
    }
   ],
   "source": [
    "print(sum(train['Sex'] == 'female'))\n",
    "print(sum(train['Sex'] == 'male'))"
   ]
  },
  {
   "cell_type": "code",
   "execution_count": 7,
   "metadata": {
    "pycharm": {
     "name": "#%%\n"
    }
   },
   "outputs": [
    {
     "data": {
      "image/png": "[encoded data removed]",
      "text/plain": [
       "<Figure size 432x288 with 1 Axes>"
      ]
     },
     "metadata": {
      "needs_background": "light"
     },
     "output_type": "display_data"
    }
   ],
   "source": [
    "# Survived by SibSp\n",
    "\n",
    "seaborn.barplot(\n",
    "    x='SibSp', y='Survived',\n",
    "    data=train\n",
    ")\n",
    "plt.show()"
   ]
  },
  {
   "cell_type": "code",
   "execution_count": 8,
   "metadata": {
    "pycharm": {
     "name": "#%%\n"
    }
   },
   "outputs": [
    {
     "data": {
      "image/png": "[encoded data removed]",
      "text/plain": [
       "<Figure size 432x288 with 1 Axes>"
      ]
     },
     "metadata": {
      "needs_background": "light"
     },
     "output_type": "display_data"
    }
   ],
   "source": [
    "# Survived by Pclass\n",
    "\n",
    "seaborn.barplot(\n",
    "    x='Pclass', y='Survived',\n",
    "    data=train\n",
    ")\n",
    "plt.show()\n"
   ]
  },
  {
   "cell_type": "code",
   "execution_count": 9,
   "metadata": {
    "pycharm": {
     "name": "#%%\n"
    }
   },
   "outputs": [
    {
     "name": "stdout",
     "output_type": "stream",
     "text": [
      "[('Mr.', 516), ('Miss.', 181), ('Mrs.', 124), ('William', 61), ('John', 43), ('Master.', 39), ('Henry', 32), ('James', 23), ('Charles', 22), ('George', 21)]\n"
     ]
    }
   ],
   "source": [
    "# Mr, Miss ...\n",
    "counts = {}\n",
    "\n",
    "for name in train['Name']:\n",
    "    for word in name.split():\n",
    "        if word in counts:\n",
    "            counts[word] += 1\n",
    "        else:\n",
    "            counts[word] = 0\n",
    "\n",
    "print(sorted(list(filter(lambda tup: tup[1] > 1, counts.items())), key=lambda tup: tup[1], reverse=True)[:10])"
   ]
  },
  {
   "cell_type": "code",
   "execution_count": 10,
   "metadata": {
    "pycharm": {
     "name": "#%%\n"
    }
   },
   "outputs": [],
   "source": [
    "from sklearn.base import BaseEstimator, TransformerMixin\n",
    "from copy import deepcopy\n",
    "\n",
    "class ColumnAdder(BaseEstimator, TransformerMixin):\n",
    "    def __init__(self, add_rank=True, add_age_group=True, add_is_alone=True):\n",
    "        self.add_rank = add_rank\n",
    "        self.add_is_alone = add_is_alone\n",
    "        self.add_age_group = add_age_group\n",
    "\n",
    "    @staticmethod\n",
    "    def age_to_group(age):\n",
    "        if age < 18:\n",
    "            return '1'\n",
    "        if age < 40:\n",
    "            return '2'\n",
    "        return '3'\n",
    "\n",
    "    @staticmethod\n",
    "    def name_to_rank(name):\n",
    "        for rank in ['Mr.', 'Miss.', 'Mrs.', 'Master.']:\n",
    "            if rank in name:\n",
    "                return rank\n",
    "        return 'Unranked'\n",
    "\n",
    "    def fit(self, X, y=None):\n",
    "        return self\n",
    "\n",
    "    def transform(self, X):\n",
    "        X = deepcopy(X)\n",
    "\n",
    "        if self.add_rank:\n",
    "            X['Rank'] = X['Name'].apply(ColumnAdder.name_to_rank)\n",
    "\n",
    "        if self.add_age_group:\n",
    "            X['AgeGroup'] = X['Age'].apply(ColumnAdder.age_to_group)\n",
    "\n",
    "        if self.add_is_alone:\n",
    "            X['IsAlone'] = (X['Parch'] + X['SibSp']) == 0\n",
    "\n",
    "        return X\n",
    "\n",
    "\n",
    "class DataFrameSelector(BaseEstimator, TransformerMixin):\n",
    "    def __init__(self, columns):\n",
    "        self.columns = columns\n",
    "\n",
    "    def fit(self, X, y=None):\n",
    "        return self\n",
    "\n",
    "    def transform(self, X):\n",
    "        return X[self.columns]\n"
   ]
  },
  {
   "cell_type": "code",
   "execution_count": 11,
   "metadata": {
    "pycharm": {
     "name": "#%%\n"
    }
   },
   "outputs": [],
   "source": [
    "from sklearn.metrics import mean_squared_error\n",
    "from sklearn.model_selection import cross_val_score\n",
    "\n",
    "y_train = train['Survived']\n",
    "X_train = train.drop('Survived', axis=1)\n",
    "\n",
    "X_train = ColumnAdder().fit_transform(X_train)\n",
    "X_train.drop(['Name', 'Ticket', 'Cabin'], axis=1, inplace=True)\n",
    "\n",
    "X_test = ColumnAdder().fit_transform(test)\n",
    "X_test.drop(['Name', 'Ticket', 'Cabin'], axis=1, inplace=True)"
   ]
  },
  {
   "cell_type": "code",
   "execution_count": 12,
   "metadata": {
    "pycharm": {
     "name": "#%%\n"
    }
   },
   "outputs": [
    {
     "data": {
      "image/png": "[encoded data removed]",
      "text/plain": [
       "<Figure size 432x288 with 1 Axes>"
      ]
     },
     "metadata": {
      "needs_background": "light"
     },
     "output_type": "display_data"
    }
   ],
   "source": [
    "# Survived by Rank\n",
    "\n",
    "seaborn.barplot(\n",
    "    x=X_train['Rank'], y=y_train\n",
    ")\n",
    "plt.show()"
   ]
  },
  {
   "cell_type": "code",
   "execution_count": 13,
   "metadata": {
    "pycharm": {
     "name": "#%%\n"
    }
   },
   "outputs": [
    {
     "data": {
      "image/png": "[encoded data removed]",
      "text/plain": [
       "<Figure size 432x288 with 1 Axes>"
      ]
     },
     "metadata": {
      "needs_background": "light"
     },
     "output_type": "display_data"
    }
   ],
   "source": [
    "# Survived by AgeGroup\n",
    "\n",
    "seaborn.barplot(\n",
    "    x=X_train['AgeGroup'], y=y_train\n",
    ")\n",
    "plt.show()"
   ]
  },
  {
   "cell_type": "code",
   "execution_count": 14,
   "metadata": {
    "pycharm": {
     "name": "#%%\n"
    }
   },
   "outputs": [
    {
     "data": {
      "image/png": "[encoded data removed]",
      "text/plain": [
       "<Figure size 432x288 with 1 Axes>"
      ]
     },
     "metadata": {
      "needs_background": "light"
     },
     "output_type": "display_data"
    }
   ],
   "source": [
    "# Survived by IsAlone\n",
    "\n",
    "seaborn.barplot(\n",
    "    x=X_train['IsAlone'], y=y_train\n",
    ")\n",
    "plt.show()"
   ]
  },
  {
   "cell_type": "code",
   "execution_count": 15,
   "metadata": {
    "pycharm": {
     "name": "#%%\n"
    }
   },
   "outputs": [],
   "source": [
    "from sklearn.pipeline import Pipeline\n",
    "from sklearn.pipeline import FeatureUnion\n",
    "from sklearn.impute import SimpleImputer\n",
    "from sklearn.preprocessing import LabelEncoder\n",
    "from sklearn.preprocessing import StandardScaler\n",
    "from sklearn.preprocessing import OneHotEncoder\n",
    "\n",
    "cat_columns = X_train.columns[X_train.dtypes == 'object']\n",
    "\n",
    "num_columns = [\n",
    "    col\n",
    "    for col in X_train.columns\n",
    "    if col not in cat_columns\n",
    "]\n",
    "\n",
    "num_pipeline = Pipeline([\n",
    "    ('selector', DataFrameSelector(num_columns)),\n",
    "    ('imputer', SimpleImputer(strategy='median')),\n",
    "    ('std_scaler', StandardScaler())\n",
    "])\n",
    "\n",
    "cat_pipeline = Pipeline([\n",
    "    ('selector', DataFrameSelector(cat_columns)),\n",
    "    ('imputer', SimpleImputer(strategy='most_frequent')),\n",
    "    ('encoder', OneHotEncoder())\n",
    "])\n",
    "\n",
    "full_pipeline = FeatureUnion([\n",
    "    ('num_pipeline', num_pipeline),\n",
    "    ('cat_pipeline', cat_pipeline)\n",
    "])"
   ]
  },
  {
   "cell_type": "code",
   "execution_count": 16,
   "metadata": {
    "pycharm": {
     "name": "#%%\n"
    }
   },
   "outputs": [],
   "source": [
    "X_train_prepared = full_pipeline.fit_transform(X_train)\n",
    "X_test_prepared = full_pipeline.transform(X_test)"
   ]
  },
  {
   "cell_type": "code",
   "execution_count": 17,
   "metadata": {
    "pycharm": {
     "name": "#%%\n"
    }
   },
   "outputs": [],
   "source": [
    "kaggle_lib = __import__('kaggle_lib')\n",
    "Submitter = kaggle_lib.Submitter\n",
    "search_params = kaggle_lib.search_params\n",
    "\n",
    "submitter = Submitter(compete='titanic', work_dir='C:/Users/uiqko/GoogleDrive/code/multilang/kaggle-titanic/Submissions')\n",
    "\n",
    "submit_args = {\n",
    "    'save_model': True,\n",
    "    'open_in_browser': False,\n",
    "}\n",
    "\n",
    "def create_predicted_df(predicted, index):\n",
    "    return pd.DataFrame(dict(zip(['PassengerId', 'Survived'], [index, predicted])))\n"
   ]
  },
  {
   "cell_type": "markdown",
   "metadata": {
    "pycharm": {
     "name": "#%% md\n"
    }
   },
   "source": [
    "### Random Forest"
   ]
  },
  {
   "cell_type": "code",
   "execution_count": 18,
   "metadata": {
    "pycharm": {
     "name": "#%%\n"
    }
   },
   "outputs": [
    {
     "name": "stdout",
     "output_type": "stream",
     "text": [
      "Time: 20.51008629798889 sec\n",
      "Best estimator: RandomForestClassifier(max_features=8, n_estimators=10)\n"
     ]
    }
   ],
   "source": [
    "from sklearn.ensemble import RandomForestClassifier\n",
    "\n",
    "best_estimator = search_params(\n",
    "    RandomForestClassifier(),\n",
    "    X_train_prepared, y_train, random=False,\n",
    "    param_grid=[\n",
    "        {'n_estimators': [3, 10, 30, 70, 100, 150], 'max_features': [2, 4, 6, 8]},\n",
    "        {'bootstrap': [False], 'n_estimators': [3, 10], 'max_features': [2, 3, 4]}\n",
    "    ]\n",
    ").best_estimator_"
   ]
  },
  {
   "cell_type": "code",
   "execution_count": 19,
   "metadata": {
    "pycharm": {
     "name": "#%%\n"
    }
   },
   "outputs": [
    {
     "name": "stdout",
     "output_type": "stream",
     "text": [
      "Uploading submission...\n",
      "kaggle competitions submit -c titanic -f \"C:/Users/uiqko/GoogleDrive/code/multilang/kaggle-titanic/Submissions/0  --  RandomForestClassifier(max_features=8, n_estimators=10)/submission.csv\" -m \"RandomForestClassifier(max_features=8, n_estimators=10)\"\n",
      "Output:  0\n"
     ]
    }
   ],
   "source": [
    "submitter.submit(\n",
    "    predicted=create_predicted_df(best_estimator.predict(X_test_prepared), X_test.index),\n",
    "    submission_name=str(best_estimator),\n",
    "    model=best_estimator,\n",
    "    **submit_args\n",
    ")"
   ]
  },
  {
   "cell_type": "code",
   "execution_count": 20,
   "metadata": {
    "pycharm": {
     "name": "#%%\n"
    }
   },
   "outputs": [
    {
     "name": "stdout",
     "output_type": "stream",
     "text": [
      "Date:  2020-11-23T12:58:40.263Z\n",
      "Status:  complete\n",
      "Score:  0.76315\n"
     ]
    }
   ],
   "source": [
    "submitter.check_submission()"
   ]
  },
  {
   "cell_type": "markdown",
   "metadata": {
    "pycharm": {
     "name": "#%% md\n"
    }
   },
   "source": [
    "### XGBoost"
   ]
  },
  {
   "cell_type": "code",
   "execution_count": 21,
   "metadata": {
    "pycharm": {
     "name": "#%%\n"
    }
   },
   "outputs": [
    {
     "name": "stdout",
     "output_type": "stream",
     "text": [
      "Uploading submission...\n",
      "kaggle competitions submit -c titanic -f \"C:/Users/uiqko/GoogleDrive/code/multilang/kaggle-titanic/Submissions/1  --  xgb with default params/submission.csv\" -m \"XGBClassifier(base_score=0.5, booster='gbtree', colsample_bylevel=1,\n",
      "              colsample_bynode=1, colsample_bytree=1, gamma=0, gpu_id=-1,\n",
      "              importance_type='gain', interaction_constraints='',\n",
      "              learning_rate=0.300000012, max_delta_step=0, max_depth=6,\n",
      "              min_child_weight=1, missing=nan, monotone_constraints='()',\n",
      "              n_estimators=100, n_jobs=0, num_parallel_tree=1, random_state=0,\n",
      "              reg_alpha=0, reg_lambda=1, scale_pos_weight=1, subsample=1,\n",
      "              tree_method='exact', validate_parameters=1, verbosity=None)\"\n",
      "Output:  0\n"
     ]
    }
   ],
   "source": [
    "from xgboost import XGBClassifier\n",
    "\n",
    "xgb = XGBClassifier()\n",
    "xgb.fit(X_train_prepared, y_train)\n",
    "\n",
    "submitter.submit(\n",
    "    predicted=create_predicted_df(xgb.predict(X_test_prepared), X_test.index),\n",
    "    model=xgb,\n",
    "    model_name='XGBClassifier()',\n",
    "    submission_name='xgb with default params',\n",
    "    **submit_args\n",
    ")"
   ]
  },
  {
   "cell_type": "code",
   "execution_count": 22,
   "metadata": {},
   "outputs": [
    {
     "name": "stdout",
     "output_type": "stream",
     "text": [
      "Date:  2020-11-23T12:59:31.563Z\n",
      "Status:  complete\n",
      "Score:  0.73444\n"
     ]
    }
   ],
   "source": [
    "submitter.check_submission()"
   ]
  },
  {
   "cell_type": "code",
   "execution_count": 23,
   "metadata": {
    "pycharm": {
     "name": "#%%\n"
    }
   },
   "outputs": [
    {
     "name": "stdout",
     "output_type": "stream",
     "text": [
      "Time: 25.442548274993896 sec\n",
      "Best estimator: XGBClassifier(base_score=0.5, booster='gbtree', colsample_bylevel=1,\n",
      "              colsample_bynode=1, colsample_bytree=1, gamma=0, gpu_id=-1,\n",
      "              importance_type='gain', interaction_constraints='',\n",
      "              learning_rate=0.05, max_delta_step=0, max_depth=6,\n",
      "              min_child_weight=1, missing=nan, monotone_constraints='()',\n",
      "              n_estimators=100, n_jobs=1, num_parallel_tree=1, random_state=0,\n",
      "              reg_alpha=0, reg_lambda=1, scale_pos_weight=1, subsample=1,\n",
      "              tree_method='exact', validate_parameters=1, verbosity=None)\n"
     ]
    }
   ],
   "source": [
    "xgb_search = search_params(\n",
    "    XGBClassifier(),\n",
    "    X_train_prepared, y_train, random=False,\n",
    "    param_grid = {\n",
    "        'n_estimators': [50, 100, 150, 200, 500],\n",
    "        'learning_rate': [1, 0.5, 0.1, 0.05],\n",
    "        'n_jobs': [1, 2, 4]\n",
    "    }\n",
    ").best_estimator_"
   ]
  },
  {
   "cell_type": "code",
   "execution_count": 24,
   "metadata": {
    "pycharm": {
     "name": "#%%\n"
    }
   },
   "outputs": [
    {
     "name": "stdout",
     "output_type": "stream",
     "text": [
      "Uploading submission...\n",
      "kaggle competitions submit -c titanic -f \"C:/Users/uiqko/GoogleDrive/code/multilang/kaggle-titanic/Submissions/2  --  xgb with searched params/submission.csv\" -m \"XGBClassifier(base_score=0.5, booster='gbtree', colsample_bylevel=1,\n",
      "              colsample_bynode=1, colsample_bytree=1, gamma=0, gpu_id=-1,\n",
      "              importance_type='gain', interaction_constraints='',\n",
      "              learning_rate=0.05, max_delta_step=0, max_depth=6,\n",
      "              min_child_weight=1, missing=nan, monotone_constraints='()',\n",
      "              n_estimators=100, n_jobs=1, num_parallel_tree=1, random_state=0,\n",
      "              reg_alpha=0, reg_lambda=1, scale_pos_weight=1, subsample=1,\n",
      "              tree_method='exact', validate_parameters=1, verbosity=None)\"\n",
      "Output:  0\n"
     ]
    }
   ],
   "source": [
    "submitter.submit(\n",
    "    predicted=create_predicted_df(xgb_search.predict(X_test_prepared), X_test.index),\n",
    "    model=xgb_search,\n",
    "    model_name='XGBClassifier(searched_params)',\n",
    "    submission_name='xgb with searched params',\n",
    "    **submit_args\n",
    ")"
   ]
  },
  {
   "cell_type": "code",
   "execution_count": null,
   "outputs": [],
   "source": [
    "submitter.check_submission()"
   ],
   "metadata": {
    "collapsed": false,
    "pycharm": {
     "name": "#%%\n"
    }
   }
  },
  {
   "cell_type": "code",
   "execution_count": 25,
   "metadata": {},
   "outputs": [
    {
     "name": "stdout",
     "output_type": "stream",
     "text": [
      "Date:  2020-11-23T13:00:27.963Z\n",
      "Status:  complete\n",
      "Score:  0.76315\n"
     ]
    }
   ],
   "source": [
    "submitter.check_submission()"
   ]
  }
 ],
 "metadata": {
  "kernelspec": {
   "display_name": "Python 3",
   "language": "python",
   "name": "python3"
  },
  "language_info": {
   "codemirror_mode": {
    "name": "ipython",
    "version": 3
   },
   "file_extension": ".py",
   "mimetype": "text/x-python",
   "name": "python",
   "nbconvert_exporter": "python",
   "pygments_lexer": "ipython3",
   "version": "3.8.5"
  }
 },
 "nbformat": 4,
 "nbformat_minor": 1
}